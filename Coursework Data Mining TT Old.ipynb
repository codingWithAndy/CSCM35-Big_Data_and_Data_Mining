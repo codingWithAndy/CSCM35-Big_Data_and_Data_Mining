{
 "cells": [
  {
   "cell_type": "code",
   "execution_count": 124,
   "metadata": {},
   "outputs": [],
   "source": [
    "## 98273 Data Mining Coursework\n",
    "## We are going to apply Data Mining algorithms to\n",
    "## the above dataset to investigate insights regarding to it\n",
    "\n",
    "# Import libraries\n",
    "import numpy as np\n",
    "import pandas as pd\n",
    "import matplotlib.pyplot as plt\n",
    "from mlxtend.frequent_patterns import apriori\n",
    "from mlxtend.frequent_patterns import association_rules\n",
    "import mlxtend as mlx\n",
    "import altair as alt\n",
    "from sklearn.cluster import KMeans\n",
    "import sys\n",
    "import datetime \n",
    "from math import isnan"
   ]
  },
  {
   "cell_type": "code",
   "execution_count": 2,
   "metadata": {
    "scrolled": true
   },
   "outputs": [],
   "source": [
    "data = pd.read_csv('OnlineRetail.csv')\n",
    "data['Description'] = data['Description'].str.strip()\n",
    "\n",
    "#data.dropna(axis=0, subset=['InvoiceNo'], inplace=True)\n",
    "\n",
    "data = data.dropna(axis =0)\n",
    "data['InvoiceNo'] = data['InvoiceNo'].astype('str')\n",
    "\n",
    "#data = data[~data['InvoiceNo'].str.contains('C')]\n",
    "\n",
    "# We are making the description to lower case for massive managing\n",
    "data['Description'] = data['Description'].str.lower()\n",
    "# we are going to convert column names to lower as well\n",
    "data.columns = data.columns.str.lower()\n",
    "data['description'] = data['description'].astype('str')\n",
    "data = data[~data['description'].str.contains('wrongly')]\n",
    "data['customerid'] = data['customerid'].astype('int')"
   ]
  },
  {
   "cell_type": "code",
   "execution_count": 4,
   "metadata": {
    "scrolled": true
   },
   "outputs": [
    {
     "data": {
      "text/html": [
       "<div>\n",
       "<style scoped>\n",
       "    .dataframe tbody tr th:only-of-type {\n",
       "        vertical-align: middle;\n",
       "    }\n",
       "\n",
       "    .dataframe tbody tr th {\n",
       "        vertical-align: top;\n",
       "    }\n",
       "\n",
       "    .dataframe thead th {\n",
       "        text-align: right;\n",
       "    }\n",
       "</style>\n",
       "<table border=\"1\" class=\"dataframe\">\n",
       "  <thead>\n",
       "    <tr style=\"text-align: right;\">\n",
       "      <th></th>\n",
       "      <th>invoiceno</th>\n",
       "      <th>stockcode</th>\n",
       "      <th>description</th>\n",
       "      <th>quantity</th>\n",
       "      <th>invoicedate</th>\n",
       "      <th>unitprice</th>\n",
       "      <th>customerid</th>\n",
       "      <th>country</th>\n",
       "    </tr>\n",
       "  </thead>\n",
       "  <tbody>\n",
       "    <tr>\n",
       "      <td>0</td>\n",
       "      <td>536365</td>\n",
       "      <td>85123A</td>\n",
       "      <td>white hanging heart t-light holder</td>\n",
       "      <td>6</td>\n",
       "      <td>01/12/2010 08:26</td>\n",
       "      <td>2.55</td>\n",
       "      <td>17850</td>\n",
       "      <td>United Kingdom</td>\n",
       "    </tr>\n",
       "    <tr>\n",
       "      <td>1</td>\n",
       "      <td>536365</td>\n",
       "      <td>71053</td>\n",
       "      <td>white metal lantern</td>\n",
       "      <td>6</td>\n",
       "      <td>01/12/2010 08:26</td>\n",
       "      <td>3.39</td>\n",
       "      <td>17850</td>\n",
       "      <td>United Kingdom</td>\n",
       "    </tr>\n",
       "    <tr>\n",
       "      <td>2</td>\n",
       "      <td>536365</td>\n",
       "      <td>84406B</td>\n",
       "      <td>cream cupid hearts coat hanger</td>\n",
       "      <td>8</td>\n",
       "      <td>01/12/2010 08:26</td>\n",
       "      <td>2.75</td>\n",
       "      <td>17850</td>\n",
       "      <td>United Kingdom</td>\n",
       "    </tr>\n",
       "    <tr>\n",
       "      <td>3</td>\n",
       "      <td>536365</td>\n",
       "      <td>84029G</td>\n",
       "      <td>knitted union flag hot water bottle</td>\n",
       "      <td>6</td>\n",
       "      <td>01/12/2010 08:26</td>\n",
       "      <td>3.39</td>\n",
       "      <td>17850</td>\n",
       "      <td>United Kingdom</td>\n",
       "    </tr>\n",
       "    <tr>\n",
       "      <td>4</td>\n",
       "      <td>536365</td>\n",
       "      <td>84029E</td>\n",
       "      <td>red woolly hottie white heart.</td>\n",
       "      <td>6</td>\n",
       "      <td>01/12/2010 08:26</td>\n",
       "      <td>3.39</td>\n",
       "      <td>17850</td>\n",
       "      <td>United Kingdom</td>\n",
       "    </tr>\n",
       "    <tr>\n",
       "      <td>5</td>\n",
       "      <td>536365</td>\n",
       "      <td>22752</td>\n",
       "      <td>set 7 babushka nesting boxes</td>\n",
       "      <td>2</td>\n",
       "      <td>01/12/2010 08:26</td>\n",
       "      <td>7.65</td>\n",
       "      <td>17850</td>\n",
       "      <td>United Kingdom</td>\n",
       "    </tr>\n",
       "    <tr>\n",
       "      <td>6</td>\n",
       "      <td>536365</td>\n",
       "      <td>21730</td>\n",
       "      <td>glass star frosted t-light holder</td>\n",
       "      <td>6</td>\n",
       "      <td>01/12/2010 08:26</td>\n",
       "      <td>4.25</td>\n",
       "      <td>17850</td>\n",
       "      <td>United Kingdom</td>\n",
       "    </tr>\n",
       "    <tr>\n",
       "      <td>7</td>\n",
       "      <td>536366</td>\n",
       "      <td>22633</td>\n",
       "      <td>hand warmer union jack</td>\n",
       "      <td>6</td>\n",
       "      <td>01/12/2010 08:28</td>\n",
       "      <td>1.85</td>\n",
       "      <td>17850</td>\n",
       "      <td>United Kingdom</td>\n",
       "    </tr>\n",
       "    <tr>\n",
       "      <td>8</td>\n",
       "      <td>536366</td>\n",
       "      <td>22632</td>\n",
       "      <td>hand warmer red polka dot</td>\n",
       "      <td>6</td>\n",
       "      <td>01/12/2010 08:28</td>\n",
       "      <td>1.85</td>\n",
       "      <td>17850</td>\n",
       "      <td>United Kingdom</td>\n",
       "    </tr>\n",
       "    <tr>\n",
       "      <td>9</td>\n",
       "      <td>536367</td>\n",
       "      <td>84879</td>\n",
       "      <td>assorted colour bird ornament</td>\n",
       "      <td>32</td>\n",
       "      <td>01/12/2010 08:34</td>\n",
       "      <td>1.69</td>\n",
       "      <td>13047</td>\n",
       "      <td>United Kingdom</td>\n",
       "    </tr>\n",
       "  </tbody>\n",
       "</table>\n",
       "</div>"
      ],
      "text/plain": [
       "  invoiceno stockcode                          description  quantity  \\\n",
       "0    536365    85123A   white hanging heart t-light holder         6   \n",
       "1    536365     71053                  white metal lantern         6   \n",
       "2    536365    84406B       cream cupid hearts coat hanger         8   \n",
       "3    536365    84029G  knitted union flag hot water bottle         6   \n",
       "4    536365    84029E       red woolly hottie white heart.         6   \n",
       "5    536365     22752         set 7 babushka nesting boxes         2   \n",
       "6    536365     21730    glass star frosted t-light holder         6   \n",
       "7    536366     22633               hand warmer union jack         6   \n",
       "8    536366     22632            hand warmer red polka dot         6   \n",
       "9    536367     84879        assorted colour bird ornament        32   \n",
       "\n",
       "        invoicedate  unitprice  customerid         country  \n",
       "0  01/12/2010 08:26       2.55       17850  United Kingdom  \n",
       "1  01/12/2010 08:26       3.39       17850  United Kingdom  \n",
       "2  01/12/2010 08:26       2.75       17850  United Kingdom  \n",
       "3  01/12/2010 08:26       3.39       17850  United Kingdom  \n",
       "4  01/12/2010 08:26       3.39       17850  United Kingdom  \n",
       "5  01/12/2010 08:26       7.65       17850  United Kingdom  \n",
       "6  01/12/2010 08:26       4.25       17850  United Kingdom  \n",
       "7  01/12/2010 08:28       1.85       17850  United Kingdom  \n",
       "8  01/12/2010 08:28       1.85       17850  United Kingdom  \n",
       "9  01/12/2010 08:34       1.69       13047  United Kingdom  "
      ]
     },
     "execution_count": 4,
     "metadata": {},
     "output_type": "execute_result"
    }
   ],
   "source": [
    "data.head(10)"
   ]
  },
  {
   "cell_type": "code",
   "execution_count": 24,
   "metadata": {},
   "outputs": [],
   "source": [
    "def encode(x):\n",
    "    if (x <= 0):\n",
    "        return 0\n",
    "    elif (x >= 1):\n",
    "        return 1\n"
   ]
  },
  {
   "cell_type": "code",
   "execution_count": 25,
   "metadata": {},
   "outputs": [],
   "source": [
    "basket = (data.groupby(['customerid', 'description'])['quantity']\n",
    "          .sum().unstack().reset_index().fillna(0)\n",
    "          .set_index('customerid'))"
   ]
  },
  {
   "cell_type": "code",
   "execution_count": 14,
   "metadata": {},
   "outputs": [],
   "source": [
    "basket = (data[data['country'] ==\"United Kingdom\"]\n",
    "          .groupby(['invoiceno', 'description'])['quantity']\n",
    "          .sum().unstack().reset_index().fillna(0)\n",
    "          .set_index('invoiceno'))\n"
   ]
  },
  {
   "cell_type": "code",
   "execution_count": 28,
   "metadata": {},
   "outputs": [],
   "source": [
    "basket = (data.groupby(['invoiceno', 'description'])['quantity']\n",
    "          .sum().unstack().reset_index().fillna(0)\n",
    "          .set_index('invoiceno'))\n"
   ]
  },
  {
   "cell_type": "code",
   "execution_count": 29,
   "metadata": {},
   "outputs": [],
   "source": [
    "basket_sets = basket.applymap(encode)"
   ]
  },
  {
   "cell_type": "code",
   "execution_count": 40,
   "metadata": {},
   "outputs": [
    {
     "data": {
      "text/html": [
       "<div>\n",
       "<style scoped>\n",
       "    .dataframe tbody tr th:only-of-type {\n",
       "        vertical-align: middle;\n",
       "    }\n",
       "\n",
       "    .dataframe tbody tr th {\n",
       "        vertical-align: top;\n",
       "    }\n",
       "\n",
       "    .dataframe thead th {\n",
       "        text-align: right;\n",
       "    }\n",
       "</style>\n",
       "<table border=\"1\" class=\"dataframe\">\n",
       "  <thead>\n",
       "    <tr style=\"text-align: right;\">\n",
       "      <th></th>\n",
       "      <th>antecedents</th>\n",
       "      <th>consequents</th>\n",
       "      <th>antecedent support</th>\n",
       "      <th>consequent support</th>\n",
       "      <th>support</th>\n",
       "      <th>confidence</th>\n",
       "      <th>lift</th>\n",
       "      <th>leverage</th>\n",
       "      <th>conviction</th>\n",
       "    </tr>\n",
       "  </thead>\n",
       "  <tbody>\n",
       "    <tr>\n",
       "      <td>0</td>\n",
       "      <td>(60 teatime fairy cake cases)</td>\n",
       "      <td>(72 sweetheart fairy cake cases)</td>\n",
       "      <td>0.029608</td>\n",
       "      <td>0.022578</td>\n",
       "      <td>0.010005</td>\n",
       "      <td>0.337900</td>\n",
       "      <td>14.966050</td>\n",
       "      <td>0.009336</td>\n",
       "      <td>1.476245</td>\n",
       "    </tr>\n",
       "    <tr>\n",
       "      <td>1</td>\n",
       "      <td>(72 sweetheart fairy cake cases)</td>\n",
       "      <td>(60 teatime fairy cake cases)</td>\n",
       "      <td>0.022578</td>\n",
       "      <td>0.029608</td>\n",
       "      <td>0.010005</td>\n",
       "      <td>0.443114</td>\n",
       "      <td>14.966050</td>\n",
       "      <td>0.009336</td>\n",
       "      <td>1.742532</td>\n",
       "    </tr>\n",
       "    <tr>\n",
       "      <td>2</td>\n",
       "      <td>(60 teatime fairy cake cases)</td>\n",
       "      <td>(pack of 60 dinosaur cake cases)</td>\n",
       "      <td>0.029608</td>\n",
       "      <td>0.023840</td>\n",
       "      <td>0.010050</td>\n",
       "      <td>0.339422</td>\n",
       "      <td>14.237742</td>\n",
       "      <td>0.009344</td>\n",
       "      <td>1.477736</td>\n",
       "    </tr>\n",
       "    <tr>\n",
       "      <td>3</td>\n",
       "      <td>(pack of 60 dinosaur cake cases)</td>\n",
       "      <td>(60 teatime fairy cake cases)</td>\n",
       "      <td>0.023840</td>\n",
       "      <td>0.029608</td>\n",
       "      <td>0.010050</td>\n",
       "      <td>0.421550</td>\n",
       "      <td>14.237742</td>\n",
       "      <td>0.009344</td>\n",
       "      <td>1.677573</td>\n",
       "    </tr>\n",
       "    <tr>\n",
       "      <td>4</td>\n",
       "      <td>(60 teatime fairy cake cases)</td>\n",
       "      <td>(pack of 60 pink paisley cake cases)</td>\n",
       "      <td>0.029608</td>\n",
       "      <td>0.030149</td>\n",
       "      <td>0.012618</td>\n",
       "      <td>0.426180</td>\n",
       "      <td>14.135912</td>\n",
       "      <td>0.011726</td>\n",
       "      <td>1.690165</td>\n",
       "    </tr>\n",
       "  </tbody>\n",
       "</table>\n",
       "</div>"
      ],
      "text/plain": [
       "                        antecedents                           consequents  \\\n",
       "0     (60 teatime fairy cake cases)      (72 sweetheart fairy cake cases)   \n",
       "1  (72 sweetheart fairy cake cases)         (60 teatime fairy cake cases)   \n",
       "2     (60 teatime fairy cake cases)      (pack of 60 dinosaur cake cases)   \n",
       "3  (pack of 60 dinosaur cake cases)         (60 teatime fairy cake cases)   \n",
       "4     (60 teatime fairy cake cases)  (pack of 60 pink paisley cake cases)   \n",
       "\n",
       "   antecedent support  consequent support   support  confidence       lift  \\\n",
       "0            0.029608            0.022578  0.010005    0.337900  14.966050   \n",
       "1            0.022578            0.029608  0.010005    0.443114  14.966050   \n",
       "2            0.029608            0.023840  0.010050    0.339422  14.237742   \n",
       "3            0.023840            0.029608  0.010050    0.421550  14.237742   \n",
       "4            0.029608            0.030149  0.012618    0.426180  14.135912   \n",
       "\n",
       "   leverage  conviction  \n",
       "0  0.009336    1.476245  \n",
       "1  0.009336    1.742532  \n",
       "2  0.009344    1.477736  \n",
       "3  0.009344    1.677573  \n",
       "4  0.011726    1.690165  "
      ]
     },
     "execution_count": 40,
     "metadata": {},
     "output_type": "execute_result"
    }
   ],
   "source": [
    "frequent_itemsets = apriori(basket_sets, min_support=0.01, use_colnames=True)\n",
    "rules = association_rules(frequent_itemsets, metric=\"lift\", min_threshold=3)\n",
    "rules.head()"
   ]
  },
  {
   "cell_type": "code",
   "execution_count": 42,
   "metadata": {
    "scrolled": false
   },
   "outputs": [
    {
     "data": {
      "image/png": "[encoded data removed]",
      "text/plain": [
       "<Figure size 864x864 with 9 Axes>"
      ]
     },
     "metadata": {
      "needs_background": "light"
     },
     "output_type": "display_data"
    }
   ],
   "source": [
    "rules.hist(figsize=[12,12], bins = 30)\n",
    "plt.show()"
   ]
  },
  {
   "cell_type": "markdown",
   "metadata": {},
   "source": [
    "### Identifying the outliers"
   ]
  },
  {
   "cell_type": "markdown",
   "metadata": {},
   "source": [
    "Hence the dataset is really huge and we have to scan the data to find potential weaknesses while we eliminating the most noise we can. Thus, we are going to do different plots to see if there are outliers than need to be removed from the dataset"
   ]
  },
  {
   "cell_type": "code",
   "execution_count": 116,
   "metadata": {},
   "outputs": [
    {
     "data": {
      "image/png": "[encoded data removed]",
      "text/plain": [
       "<Figure size 360x360 with 1 Axes>"
      ]
     },
     "metadata": {
      "needs_background": "light"
     },
     "output_type": "display_data"
    }
   ],
   "source": [
    "plt.figure(figsize=[5,5])\n",
    "plt.scatter(data['quantity'], data['unitprice'], c= 'blue')\n",
    "plt.title('Full Dataset')\n",
    "plt.xlabel('quantity');plt.ylabel('unitprice')\n",
    "plt.show()"
   ]
  },
  {
   "cell_type": "code",
   "execution_count": 123,
   "metadata": {},
   "outputs": [
    {
     "data": {
      "image/png": "[encoded data removed]",
      "text/plain": [
       "<Figure size 360x360 with 1 Axes>"
      ]
     },
     "metadata": {
      "needs_background": "light"
     },
     "output_type": "display_data"
    }
   ],
   "source": [
    "plt.figure(figsize=[5,5])\n",
    "plt.scatter(data['quantity'], data['unitprice'], c= 'blue')\n",
    "plt.title('UnitPrice <= 2500 & quantity <= 3000')\n",
    "plt.xlabel('quantity');plt.ylabel('unitprice')\n",
    "plt.xlim(-1,3000);plt.ylim(0,2500)\n",
    "plt.show()"
   ]
  },
  {
   "cell_type": "code",
   "execution_count": 122,
   "metadata": {},
   "outputs": [],
   "source": [
    "# Thus, the separation is going to be as:\n",
    "\n",
    "# quantity <= 3000\n",
    "# unit price <= 2500\n",
    "\n",
    "data = data[data['quantity'] <= 3000]\n",
    "data = data[data['unitprice'] <= 2500]"
   ]
  },
  {
   "cell_type": "markdown",
   "metadata": {},
   "source": [
    "#### Separating the datasets\n"
   ]
  },
  {
   "cell_type": "markdown",
   "metadata": {},
   "source": [
    "At this stage we are going to separate our datasets into 2 different datasets;\n",
    "the buyouts which relies on credit which contain 'C' in the their Invoice Number \n",
    "and those without any creidit without the 'C' in the invoice\n",
    "\n",
    "Moreover, we are going to remove any buyouts which have negative quantity.\n",
    "We could assume that negative quanity means '<i>return</i>' but we will not deal with that set at the moment"
   ]
  },
  {
   "cell_type": "code",
   "execution_count": 134,
   "metadata": {},
   "outputs": [],
   "source": [
    "data = data[~data['quantity'] <0]\n",
    "data['paid_money'] = data['quantity']*data['unitprice']\n",
    "non_credit = data[~data['invoiceno'].str.contains('C')]\n",
    "credit = data[data['invoiceno'].str.contains('C')]"
   ]
  },
  {
   "cell_type": "code",
   "execution_count": 160,
   "metadata": {},
   "outputs": [],
   "source": [
    "non_credit['invoiceno'] = non_credit['invoiceno'].astype('int')\n",
    "cluster_non_credit = non_credit[['unitprice','quantity','paid_money']]\n",
    "kmeans = KMeans(n_clusters= 3, random_state=  12).fit(cluster_non_credit)\n",
    "labels = kmeans.predict(cluster_non_credit)"
   ]
  },
  {
   "cell_type": "code",
   "execution_count": 161,
   "metadata": {},
   "outputs": [],
   "source": []
  },
  {
   "cell_type": "code",
   "execution_count": 168,
   "metadata": {},
   "outputs": [
    {
     "data": {
      "text/plain": [
       "(0, 5000)"
      ]
     },
     "execution_count": 168,
     "metadata": {},
     "output_type": "execute_result"
    },
    {
     "data": {
      "image/png": "[encoded data removed]",
      "text/plain": [
       "<Figure size 432x288 with 1 Axes>"
      ]
     },
     "metadata": {
      "needs_background": "light"
     },
     "output_type": "display_data"
    }
   ],
   "source": [
    "plt.scatter(data['quantity'], data['paid_money'], c =labels)\n",
    "plt.scatter(kmeans.cluster_centers_[0][1], kmeans.cluster_centers_[0][2], marker='x',c = 'red', s = 22)\n",
    "plt.scatter(kmeans.cluster_centers_[1][1], kmeans.cluster_centers_[1][2], marker='x',c = 'red',s = 22)\n",
    "plt.scatter(kmeans.cluster_centers_[2][1], kmeans.cluster_centers_[2][2], marker='x',c = 'red', s = 22)\n",
    "plt.ylim(0,5000)"
   ]
  },
  {
   "cell_type": "code",
   "execution_count": null,
   "metadata": {},
   "outputs": [],
   "source": []
  }
 ],
 "metadata": {
  "kernelspec": {
   "display_name": "Python 3",
   "language": "python",
   "name": "python3"
  },
  "language_info": {
   "codemirror_mode": {
    "name": "ipython",
    "version": 3
   },
   "file_extension": ".py",
   "mimetype": "text/x-python",
   "name": "python",
   "nbconvert_exporter": "python",
   "pygments_lexer": "ipython3",
   "version": "3.7.4"
  }
 },
 "nbformat": 4,
 "nbformat_minor": 2
}
