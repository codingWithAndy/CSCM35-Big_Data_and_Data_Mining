{
 "cells": [
  {
   "cell_type": "code",
   "execution_count": 3,
   "metadata": {},
   "outputs": [],
   "source": [
    "import pandas as pd \n",
    "from matplotlib import pyplot as ppt \n",
    "from statsmodels.tsa.stattools import adfuller\n",
    "from statsmodels.graphics.tsaplots import plot_acf, plot_pacf\n",
    "from statsmodels.tsa.arima_model import ARIMA\n",
    "import statistics"
   ]
  },
  {
   "cell_type": "code",
   "execution_count": 4,
   "metadata": {},
   "outputs": [
    {
     "output_type": "stream",
     "name": "stdout",
     "text": "cases  deaths  ... popData2018 continentExp\ndateRep                    ...                         \n2020-04-27   4463     413  ...    66488991       Europe\n2020-04-26   4913     813  ...    66488991       Europe\n2020-04-25   5386     768  ...    66488991       Europe\n2020-04-24   4583     638  ...    66488991       Europe\n2020-04-23   4451     763  ...    66488991       Europe\n...           ...     ...  ...         ...          ...\n2020-04-01      0       0  ...    66488991       Europe\n2020-03-01      0       0  ...    66488991       Europe\n2020-02-01      0       0  ...    66488991       Europe\n2020-01-01      0       0  ...    66488991       Europe\n2019-12-31      0       0  ...    66488991       Europe\n\n[119 rows x 7 columns]\n"
    }
   ],
   "source": [
    "day_sentiment_series = pd.read_csv('Uk Time Series Data.csv', index_col=0,\n",
    "                                      parse_dates=True, squeeze=True)\n",
    "\n",
    "print(day_sentiment_series)"
   ]
  },
  {
   "cell_type": "code",
   "execution_count": null,
   "metadata": {},
   "outputs": [],
   "source": []
  }
 ],
 "metadata": {
  "language_info": {
   "codemirror_mode": {
    "name": "ipython",
    "version": 3
   },
   "file_extension": ".py",
   "mimetype": "text/x-python",
   "name": "python",
   "nbconvert_exporter": "python",
   "pygments_lexer": "ipython3",
   "version": "3.7.4-final"
  },
  "orig_nbformat": 2,
  "kernelspec": {
   "name": "python3",
   "display_name": "Python 3"
  }
 },
 "nbformat": 4,
 "nbformat_minor": 2
}