{
 "cells": [
  {
   "cell_type": "markdown",
   "metadata": {},
   "source": [
    "\n",
    "## Assignment 2 "
   ]
  },
  {
   "cell_type": "code",
   "execution_count": 63,
   "metadata": {},
   "outputs": [],
   "source": [
    "import pandas as pd\n",
    "import numpy as np\n",
    "from sklearn import datasets\n",
    "from sklearn.model_selection import train_test_split\n",
    "import scipy.stats\n",
    "from sklearn import metrics"
   ]
  },
  {
   "cell_type": "code",
   "execution_count": 82,
   "metadata": {},
   "outputs": [],
   "source": [
    "# Loading in dataset and splitting into data and labels.\n",
    "\n",
    "#iris = datasets.load_iris()\n",
    "\n",
    "#df = pd.DataFrame(iris.data, columns=iris.feature_names) # Haven't added column names.\n",
    "#df['category'] = iris.target\n",
    "#df['category'] = df['category'].replace( { 0 : iris.target_names[0], 1 : iris.target_names[1], 2 : iris.target_names[2] })\n",
    "\n",
    "#y = iris.target\n",
    "#y_df = pd.DataFrame(iris.target,columns=['category'])\n",
    "#y_df['category'] = y_df['category'].replace( { 0 : iris.target_names[0], 1 : iris.target_names[1], 2 : iris.target_names[2] })\n",
    "\n",
    "#print(df)\n",
    "#print(y_df)\n",
    "global n_classes\n",
    "global _classes"
   ]
  },
  {
   "cell_type": "code",
   "execution_count": 65,
   "metadata": {},
   "outputs": [],
   "source": [
    "iris = datasets.load_iris()\n",
    "\n",
    "X = iris.data\n",
    "y = iris.target\n",
    "\n",
    "#X_train, X_test, y_train, y_test = train_test_split(X, y, test_size=0.2, random_state=123)"
   ]
  },
  {
   "cell_type": "markdown",
   "metadata": {},
   "source": [
    "### Cross Validation"
   ]
  },
  {
   "cell_type": "code",
   "execution_count": 66,
   "metadata": {},
   "outputs": [],
   "source": [
    "# Splitting datasets into training and testing.\n",
    "\n",
    "X_train, X_test, y_train, y_test = train_test_split(X, y, test_size=0.2)"
   ]
  },
  {
   "cell_type": "code",
   "execution_count": 67,
   "metadata": {},
   "outputs": [],
   "source": [
    "#print(X_train.shape, X_test.shape, y_train.shape, y_test.shape)\n",
    "#print(X_train, y_train)"
   ]
  },
  {
   "cell_type": "markdown",
   "metadata": {},
   "source": [
    "### Likelihood $P(X_i|C_j)$"
   ]
  },
  {
   "cell_type": "markdown",
   "metadata": {},
   "source": [
    "For individual feature of each category, construct a probabilistic model using Gaussian distribution, where you need to evaluate the mean and standard deviation of each feature across the samples which belong to the category. $X_i$ represents a feature and $C_j$ represents a category. (3/10 marks)"
   ]
  },
  {
   "cell_type": "code",
   "execution_count": 108,
   "metadata": {},
   "outputs": [],
   "source": [
    "def _pdf(class_idx, x):\n",
    "        mean = _mean[class_idx]\n",
    "        var = _var[class_idx]\n",
    "        numerator = np.exp(- (x-mean)**2 / (2 * var))\n",
    "        denominator = np.sqrt(2 * np.pi * var)\n",
    "        return numerator / denominator\n",
    "    \n",
    "def fit(X, y):\n",
    "        \n",
    "        \n",
    "        _classes, n_classes, n_features, n_samples = prior(X,y)\n",
    "        \n",
    "        \n",
    "        # calculate mean, var, and prior for each class\n",
    "        _mean = np.zeros((n_classes, n_features), dtype=np.int64)\n",
    "        _var = np.zeros((n_classes, n_features), dtype=np.int64)\n",
    "        _priors =  np.zeros(n_classes, dtype=np.int64)\n",
    "\n",
    "        for c in _classes:\n",
    "            X_c = X[y==c]\n",
    "            _mean[c, :] = X_c.mean(axis=0)\n",
    "            _var[c, :] = X_c.var(axis=0)\n",
    "            _priors[c] = X_c.shape[0] / n_samples\n",
    "        \n",
    "        return _classes, _priors, _var, _mean"
   ]
  },
  {
   "cell_type": "markdown",
   "metadata": {},
   "source": [
    "### Priori $P(C_j)$"
   ]
  },
  {
   "cell_type": "markdown",
   "metadata": {},
   "source": [
    "Priori probabilities of individual categories can be evaluated using the sample population. (1/10 marks)"
   ]
  },
  {
   "cell_type": "code",
   "execution_count": 104,
   "metadata": {},
   "outputs": [],
   "source": [
    "def prior(X, y):\n",
    "    n_samples, n_features = X.shape\n",
    "    _classes = np.unique(y)\n",
    "    n_classes = len(_classes)\n",
    "    \n",
    "    print(_classes, n_classes)\n",
    "    return _classes, n_classes, n_features, n_samples"
   ]
  },
  {
   "cell_type": "markdown",
   "metadata": {},
   "source": [
    "### Posterior $P(C_j|X)$"
   ]
  },
  {
   "cell_type": "markdown",
   "metadata": {},
   "source": [
    "Given a testing sample $X$, you can calculate the posterior probability $P(C_j|X)$ of a certain category $C_j$ using Bayes’ theorem and independence assumption of random variables (features). The category with highest posterior probability is voted as the prediction for given testing sample $X$."
   ]
  },
  {
   "cell_type": "code",
   "execution_count": 105,
   "metadata": {},
   "outputs": [],
   "source": [
    "def predict(X,_classes):\n",
    "        y_pred = [_predict(x,_classes) for x in X]\n",
    "        return np.array(y_pred)\n",
    "    \n",
    "def _predict(x,_classes):\n",
    "        posteriors = []\n",
    "\n",
    "        # calculate posterior probability for each class\n",
    "        for idx, c in enumerate(_classes):\n",
    "            prior = np.log(_priors[idx])\n",
    "            posterior = np.sum(np.log(_pdf(idx, x)))\n",
    "            posterior = prior + posterior\n",
    "            posteriors.append(posterior)\n",
    "            \n",
    "        # return class with highest posterior probability\n",
    "        return _classes[np.argmax(posteriors)]"
   ]
  },
  {
   "cell_type": "markdown",
   "metadata": {},
   "source": [
    "### Evaluation Confusion Matrix"
   ]
  },
  {
   "cell_type": "markdown",
   "metadata": {},
   "source": [
    "Calculate the prediction accuracy. (1/10 mark)"
   ]
  },
  {
   "cell_type": "code",
   "execution_count": 113,
   "metadata": {},
   "outputs": [
    {
     "name": "stdout",
     "output_type": "stream",
     "text": [
      "[0 1 2] 3\n",
      "Naive Bayes classification accuracy 33%\n"
     ]
    },
    {
     "name": "stderr",
     "output_type": "stream",
     "text": [
      "/Users/Andy/opt/anaconda3/lib/python3.7/site-packages/ipykernel_launcher.py:10: RuntimeWarning: divide by zero encountered in log\n",
      "  # Remove the CWD from sys.path while we load stuff.\n",
      "/Users/Andy/opt/anaconda3/lib/python3.7/site-packages/ipykernel_launcher.py:4: RuntimeWarning: divide by zero encountered in true_divide\n",
      "  after removing the cwd from sys.path.\n",
      "/Users/Andy/opt/anaconda3/lib/python3.7/site-packages/ipykernel_launcher.py:4: RuntimeWarning: invalid value encountered in true_divide\n",
      "  after removing the cwd from sys.path.\n",
      "/Users/Andy/opt/anaconda3/lib/python3.7/site-packages/ipykernel_launcher.py:6: RuntimeWarning: invalid value encountered in true_divide\n",
      "  \n"
     ]
    }
   ],
   "source": [
    "def accuracy(y_true, y_pred):\n",
    "    accuracy = np.sum(y_true == y_pred) / len(y_true)\n",
    "    return accuracy\n",
    "\n",
    "_classes, _priors, _var, _mean = fit(X_train, y_train)\n",
    "predictions = predict(X_test, _classes)\n",
    "\n",
    "print(\"Naive Bayes classification accuracy\", str(int(accuracy(y_test, predictions)*100)) + '%')"
   ]
  },
  {
   "cell_type": "code",
   "execution_count": null,
   "metadata": {},
   "outputs": [],
   "source": []
  },
  {
   "cell_type": "code",
   "execution_count": null,
   "metadata": {},
   "outputs": [],
   "source": []
  }
 ],
 "metadata": {
  "kernelspec": {
   "display_name": "Python 3",
   "language": "python",
   "name": "python3"
  },
  "language_info": {
   "codemirror_mode": {
    "name": "ipython",
    "version": 3
   },
   "file_extension": ".py",
   "mimetype": "text/x-python",
   "name": "python",
   "nbconvert_exporter": "python",
   "pygments_lexer": "ipython3",
   "version": "3.7.4"
  }
 },
 "nbformat": 4,
 "nbformat_minor": 4
}
