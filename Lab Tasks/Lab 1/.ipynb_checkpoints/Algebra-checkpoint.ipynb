{
 "cells": [
  {
   "cell_type": "markdown",
   "metadata": {},
   "source": [
    "# Task 1.4 - Linear Algebra"
   ]
  },
  {
   "cell_type": "code",
   "execution_count": 10,
   "metadata": {},
   "outputs": [],
   "source": [
    "import numpy as np\n",
    "from numpy.linalg import inv"
   ]
  },
  {
   "cell_type": "markdown",
   "metadata": {},
   "source": [
    "### Numpy LinAlg Solve"
   ]
  },
  {
   "cell_type": "code",
   "execution_count": 5,
   "metadata": {},
   "outputs": [],
   "source": [
    "A = np.array([[2,-1], [-1,2]])\n",
    "B = np.array([0,3])"
   ]
  },
  {
   "cell_type": "code",
   "execution_count": 14,
   "metadata": {},
   "outputs": [
    {
     "name": "stdout",
     "output_type": "stream",
     "text": [
      "[1. 2.]\n",
      "[0. 3.]\n",
      "True\n"
     ]
    }
   ],
   "source": [
    "X = np.linalg.solve(A, B)\n",
    "print(X)\n",
    "\n",
    "#check answer\n",
    "print(np.dot(A,X))\n",
    "\n",
    "print(np.allclose(np.dot(A, X), B))"
   ]
  },
  {
   "cell_type": "markdown",
   "metadata": {},
   "source": [
    "### Numpy Linalg Inv"
   ]
  },
  {
   "cell_type": "code",
   "execution_count": 15,
   "metadata": {},
   "outputs": [
    {
     "name": "stdout",
     "output_type": "stream",
     "text": [
      "[1. 2.]\n"
     ]
    }
   ],
   "source": [
    "X = np.dot(np.linalg.inv(A), B)\n",
    "print(X)"
   ]
  },
  {
   "cell_type": "markdown",
   "metadata": {},
   "source": [
    "### Calculated Linear Combination"
   ]
  },
  {
   "cell_type": "code",
   "execution_count": 28,
   "metadata": {},
   "outputs": [
    {
     "data": {
      "image/png": "[encoded data removed]",
      "text/plain": [
       "<Figure size 432x288 with 1 Axes>"
      ]
     },
     "metadata": {
      "needs_background": "light"
     },
     "output_type": "display_data"
    }
   ],
   "source": [
    "import matplotlib.pyplot as plt\n",
    "\n",
    "ax = plt.axes()\n",
    "\n",
    "VA1 = A[0,:] #First column vector of A\n",
    "VA2 = A[1,:] #Second column vector of A\n",
    "\n",
    "#First column vector of A [2, -1]\n",
    "ax.arrow(0, 0, *VA1, head_width=0.2, head_length=0.2, ec='blue',label='VA1')\n",
    "\n",
    "#Second column vector of A [-1, 2]\n",
    "ax.arrow(0, 0, *VA2, head_width=0.2, head_length=0.2, ec='orange', label='VA2')\n",
    "\n",
    "#Scalling VA1 and VA2\n",
    "scaled_VA1 = VA1*X[0]\n",
    "scaled_VA2 = VA2*X[1]\n",
    "\n",
    "#First column vector scaled by X = [1, 2]\n",
    "ax.arrow(0, 0, *scaled_VA1, head_width=0.2, head_length=0.2, ec='green', label='VA1 Scaled')\n",
    "\n",
    "#Second column vector scaled by X = [1, 2]\n",
    "ax.arrow(*scaled_VA1, *scaled_VA2, head_width=0.2, head_length=0.2, ec='red', label='VA2 Scaled')\n",
    "\n",
    "\n",
    "#VA1 and VA2 Linear Combination \n",
    "lin_com = scaled_VA1 + scaled_VA2\n",
    "ax.arrow(0, 0, *lin_com, head_width=0.2, head_length=0.2, ec='purple',label='Linear Com VA1 + VA2')\n",
    "\n",
    "plt.grid()\n",
    "plt.xlim(-2,3)\n",
    "plt.ylim(-2,4)\n",
    "plt.title('Linear Equations')\n",
    "\n",
    "#plt.legend()\n",
    "\n",
    "plt.show()"
   ]
  },
  {
   "cell_type": "code",
   "execution_count": 29,
   "metadata": {},
   "outputs": [],
   "source": [
    "#https://www.science-emergence.com/Articles/How-to-plot-a-simple-vector-with-matplotlib-/#plot-a-simple-vector-with-matplotlib"
   ]
  },
  {
   "cell_type": "code",
   "execution_count": null,
   "metadata": {},
   "outputs": [],
   "source": []
  }
 ],
 "metadata": {
  "kernelspec": {
   "display_name": "Python 3",
   "language": "python",
   "name": "python3"
  },
  "language_info": {
   "codemirror_mode": {
    "name": "ipython",
    "version": 3
   },
   "file_extension": ".py",
   "mimetype": "text/x-python",
   "name": "python",
   "nbconvert_exporter": "python",
   "pygments_lexer": "ipython3",
   "version": "3.7.4"
  }
 },
 "nbformat": 4,
 "nbformat_minor": 2
}
