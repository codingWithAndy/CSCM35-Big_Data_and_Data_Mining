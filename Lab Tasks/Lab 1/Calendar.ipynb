{
 "cells": [
  {
   "cell_type": "code",
   "execution_count": 1,
   "metadata": {},
   "outputs": [],
   "source": [
    "def leap_year(year):\n",
    "    \n",
    "    if (year % 4) > 0:\n",
    "        #print(\"It is a common year!\")\n",
    "        return False\n",
    "    elif ((year % 4) == 0) & ((year % 100) != 0) :\n",
    "        #print(\"It is a leap year!\")\n",
    "        return True\n",
    "    elif ((year % 100) == 0) & ((year % 400) != 0) :\n",
    "        #print(\"It is a common year!\")\n",
    "        return False\n",
    "    elif ((year % 400) == 0) & ((year % 3200) != 0) :\n",
    "        #print(\"It is a leap year!\")\n",
    "        return True\n",
    "    else:\n",
    "        #print(\"It is a common year!\")\n",
    "        return False"
   ]
  },
  {
   "cell_type": "code",
   "execution_count": 2,
   "metadata": {},
   "outputs": [
    {
     "data": {
      "text/plain": [
       "False"
      ]
     },
     "execution_count": 2,
     "metadata": {},
     "output_type": "execute_result"
    }
   ],
   "source": [
    "leap_year(2021)"
   ]
  },
  {
   "cell_type": "code",
   "execution_count": 3,
   "metadata": {},
   "outputs": [
    {
     "name": "stdout",
     "output_type": "stream",
     "text": [
      "1984 = True\n",
      "1985 = False\n",
      "1986 = False\n",
      "1987 = False\n",
      "1988 = True\n",
      "1989 = False\n",
      "1990 = False\n",
      "1991 = False\n",
      "1992 = True\n",
      "1993 = False\n",
      "1994 = False\n",
      "1995 = False\n",
      "1996 = True\n",
      "1997 = False\n",
      "1998 = False\n",
      "1999 = False\n",
      "2000 = True\n",
      "2001 = False\n",
      "2002 = False\n",
      "2003 = False\n",
      "2004 = True\n",
      "2005 = False\n",
      "2006 = False\n",
      "2007 = False\n",
      "2008 = True\n",
      "2009 = False\n",
      "2010 = False\n",
      "2011 = False\n",
      "2012 = True\n",
      "2013 = False\n",
      "2014 = False\n",
      "2015 = False\n",
      "2016 = True\n",
      "2017 = False\n",
      "2018 = False\n",
      "2019 = False\n",
      "2020 = True\n",
      "2021 = False\n",
      "2022 = False\n",
      "2023 = False\n",
      "2024 = True\n",
      "2025 = False\n",
      "2026 = False\n",
      "2027 = False\n",
      "2028 = True\n",
      "2029 = False\n"
     ]
    }
   ],
   "source": [
    "for i in range(1984, 2030):\n",
    "    print(i, \"=\", leap_year(i))\n",
    "    "
   ]
  },
  {
   "cell_type": "markdown",
   "metadata": {},
   "source": [
    "# Task 1.2"
   ]
  },
  {
   "cell_type": "code",
   "execution_count": 1,
   "metadata": {},
   "outputs": [],
   "source": [
    "def ISO(q,m,year):\n",
    "    days=['Monday','Tuesday','Wednesday','Thursday','Friday','Saturday','Sunday']\n",
    "    \n",
    "    if m == 1 or m == 2:\n",
    "        m += 12\n",
    "        year -= 1\n",
    "        \n",
    "    k = year % 100\n",
    "    j = year//100\n",
    "    h = (q + ((13 * (m + 1)) // 5) + k + (k//4) + (j//4) - (2 * j)) % 7\n",
    "    \n",
    "    d = ((h + 5) % 7) + 1\n",
    "    \n",
    "    print(d, \"=\", days[d-1])\n",
    "    return int(d)"
   ]
  },
  {
   "cell_type": "code",
   "execution_count": 7,
   "metadata": {},
   "outputs": [
    {
     "name": "stdout",
     "output_type": "stream",
     "text": [
      "1 = Monday\n"
     ]
    },
    {
     "data": {
      "text/plain": [
       "1"
      ]
     },
     "execution_count": 7,
     "metadata": {},
     "output_type": "execute_result"
    }
   ],
   "source": [
    "ISO(13,1,2020)"
   ]
  },
  {
   "cell_type": "markdown",
   "metadata": {},
   "source": [
    "# Task 1.3"
   ]
  },
  {
   "cell_type": "code",
   "execution_count": 6,
   "metadata": {},
   "outputs": [],
   "source": [
    "def create_calender(m, year):\n",
    "    month = ['January','February','March','April',\n",
    "             'May','June','July','August','Septemeber',\n",
    "             'October','November','December'\n",
    "            ]\n",
    "    days=[['','','','','','',''],\n",
    "          ['','','','','','',''],\n",
    "          ['','','','','','',''],\n",
    "          ['','','','','','',''],\n",
    "          ['','','','','','',''],\n",
    "          ['','','','','','','']\n",
    "         ]\n",
    "    dates = ['','','','','','','','','','','','','',\n",
    "             '','','','','','','','','','','','','',\n",
    "             '','','','','','','','','','','']\n",
    "    \n",
    "    output = \"\"\n",
    "    cal_pos = 0\n",
    "    d = ['Mon','Tue','Wed','Thu','Fri','Sat','Sun']\n",
    "    \n",
    "    \n",
    "    total_days = no_of_days(m,year)\n",
    "    \n",
    "    for i in range (1,total_days):\n",
    "        day = ISO(i,m,year)\n",
    "        \n",
    "        if i == 1: \n",
    "            dates[day-1] = i\n",
    "            position = day - 2\n",
    "        else:\n",
    "            dates[position+i] = i\n",
    "    \n",
    "    for l in range(len(d)):\n",
    "        output = output + \" \" + str(d[l]) + \"\"\n",
    "    \n",
    "    for j in range(len(days)):\n",
    "        output = output + \"\\n\"\n",
    "        for k in range(len(days[j])):\n",
    "            if cal_pos >= len(dates):\n",
    "                break\n",
    "            \n",
    "            if dates[cal_pos] != \"\":\n",
    "                if dates[cal_pos] < 10:\n",
    "                    days[j][k] = dates[cal_pos]\n",
    "                    output = output + \"   \" + str(days[j][k])\n",
    "                    cal_pos += 1\n",
    "                \n",
    "                else:\n",
    "                    days[j][k] = dates[cal_pos] #\"  \" + str()\n",
    "                    output = output + \"  \" + str(days[j][k])\n",
    "                    cal_pos += 1\n",
    "                \n",
    "            elif dates[cal_pos] == \"\":\n",
    "                    days[j][k] = dates[cal_pos] #days[j+1][k]\n",
    "                    output = output + \"  \" + str(days[j][k]) + \"  \"\n",
    "                    cal_pos += 1\n",
    "            \n",
    "    print(\"       \",month[m-1], year, '     ',\"\\n\", output)"
   ]
  },
  {
   "cell_type": "code",
   "execution_count": 7,
   "metadata": {},
   "outputs": [],
   "source": [
    "def no_of_days(m,year):\n",
    "    if m == 2:\n",
    "        leapYear = leap_year(year)\n",
    "        \n",
    "        if leapYear == True:\n",
    "            total_days = 30\n",
    "        else:\n",
    "            total_days = 29\n",
    "    \n",
    "    elif m in [1,3,5,7,8,10,12]:\n",
    "        total_days = 32\n",
    "        \n",
    "    else:\n",
    "        total_days = 31\n",
    "    \n",
    "    return total_days"
   ]
  },
  {
   "cell_type": "code",
   "execution_count": 8,
   "metadata": {
    "scrolled": true
   },
   "outputs": [
    {
     "name": "stdout",
     "output_type": "stream",
     "text": [
      "        January 2020       \n",
      "  Mon Tue Wed Thu Fri Sat Sun\n",
      "           1   2   3   4   5\n",
      "   6   7   8   9  10  11  12\n",
      "  13  14  15  16  17  18  19\n",
      "  20  21  22  23  24  25  26\n",
      "  27  28  29  30  31        \n",
      "        \n",
      "        February 2020       \n",
      "  Mon Tue Wed Thu Fri Sat Sun\n",
      "                       1   2\n",
      "   3   4   5   6   7   8   9\n",
      "  10  11  12  13  14  15  16\n",
      "  17  18  19  20  21  22  23\n",
      "  24  25  26  27  28  29    \n",
      "        \n",
      "        March 2020       \n",
      "  Mon Tue Wed Thu Fri Sat Sun\n",
      "                           1\n",
      "   2   3   4   5   6   7   8\n",
      "   9  10  11  12  13  14  15\n",
      "  16  17  18  19  20  21  22\n",
      "  23  24  25  26  27  28  29\n",
      "  30  31\n",
      "        April 2020       \n",
      "  Mon Tue Wed Thu Fri Sat Sun\n",
      "           1   2   3   4   5\n",
      "   6   7   8   9  10  11  12\n",
      "  13  14  15  16  17  18  19\n",
      "  20  21  22  23  24  25  26\n",
      "  27  28  29  30            \n",
      "        \n",
      "        May 2020       \n",
      "  Mon Tue Wed Thu Fri Sat Sun\n",
      "                   1   2   3\n",
      "   4   5   6   7   8   9  10\n",
      "  11  12  13  14  15  16  17\n",
      "  18  19  20  21  22  23  24\n",
      "  25  26  27  28  29  30  31\n",
      "        \n",
      "        June 2020       \n",
      "  Mon Tue Wed Thu Fri Sat Sun\n",
      "   1   2   3   4   5   6   7\n",
      "   8   9  10  11  12  13  14\n",
      "  15  16  17  18  19  20  21\n",
      "  22  23  24  25  26  27  28\n",
      "  29  30                    \n",
      "        \n",
      "        July 2020       \n",
      "  Mon Tue Wed Thu Fri Sat Sun\n",
      "           1   2   3   4   5\n",
      "   6   7   8   9  10  11  12\n",
      "  13  14  15  16  17  18  19\n",
      "  20  21  22  23  24  25  26\n",
      "  27  28  29  30  31        \n",
      "        \n",
      "        August 2020       \n",
      "  Mon Tue Wed Thu Fri Sat Sun\n",
      "                       1   2\n",
      "   3   4   5   6   7   8   9\n",
      "  10  11  12  13  14  15  16\n",
      "  17  18  19  20  21  22  23\n",
      "  24  25  26  27  28  29  30\n",
      "  31    \n",
      "        Septemeber 2020       \n",
      "  Mon Tue Wed Thu Fri Sat Sun\n",
      "       1   2   3   4   5   6\n",
      "   7   8   9  10  11  12  13\n",
      "  14  15  16  17  18  19  20\n",
      "  21  22  23  24  25  26  27\n",
      "  28  29  30                \n",
      "        \n",
      "        October 2020       \n",
      "  Mon Tue Wed Thu Fri Sat Sun\n",
      "               1   2   3   4\n",
      "   5   6   7   8   9  10  11\n",
      "  12  13  14  15  16  17  18\n",
      "  19  20  21  22  23  24  25\n",
      "  26  27  28  29  30  31    \n",
      "        \n",
      "        November 2020       \n",
      "  Mon Tue Wed Thu Fri Sat Sun\n",
      "                           1\n",
      "   2   3   4   5   6   7   8\n",
      "   9  10  11  12  13  14  15\n",
      "  16  17  18  19  20  21  22\n",
      "  23  24  25  26  27  28  29\n",
      "  30    \n"
     ]
    }
   ],
   "source": [
    "for i in range(2020,2022,2):\n",
    "    for j in range(1,12):\n",
    "        create_calender(j,i)"
   ]
  },
  {
   "cell_type": "code",
   "execution_count": null,
   "metadata": {},
   "outputs": [],
   "source": []
  },
  {
   "cell_type": "code",
   "execution_count": null,
   "metadata": {},
   "outputs": [],
   "source": []
  }
 ],
 "metadata": {
  "kernelspec": {
   "display_name": "Python 3",
   "language": "python",
   "name": "python3"
  },
  "language_info": {
   "codemirror_mode": {
    "name": "ipython",
    "version": 3
   },
   "file_extension": ".py",
   "mimetype": "text/x-python",
   "name": "python",
   "nbconvert_exporter": "python",
   "pygments_lexer": "ipython3",
   "version": "3.7.3"
  }
 },
 "nbformat": 4,
 "nbformat_minor": 2
}
