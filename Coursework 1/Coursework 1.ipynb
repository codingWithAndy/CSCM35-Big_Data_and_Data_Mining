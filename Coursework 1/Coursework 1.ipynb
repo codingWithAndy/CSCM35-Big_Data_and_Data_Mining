{
 "cells": [
  {
   "cell_type": "code",
   "execution_count": 1,
   "metadata": {},
   "outputs": [],
   "source": [
    "import pandas as pd\n",
    "import numpy as np\n",
    "from sklearn import datasets\n",
    "from sklearn.model_selection import train_test_split\n",
    "import scipy.stats\n",
    "from sklearn import metrics\n",
    "\n",
    "from mlxtend.preprocessing import TransactionEncoder\n",
    "from mlxtend.frequent_patterns import apriori\n",
    "from mlxtend.frequent_patterns import association_rules"
   ]
  },
  {
   "cell_type": "code",
   "execution_count": 13,
   "metadata": {},
   "outputs": [],
   "source": [
    "# Importing the Data\n",
    "\n",
    "data = pd.read_csv(\"OnlineRetail.csv\")\n",
    "\n",
    "\n",
    "#print(data)"
   ]
  },
  {
   "cell_type": "code",
   "execution_count": 4,
   "metadata": {},
   "outputs": [
    {
     "data": {
      "text/html": "<div>\n<style scoped>\n    .dataframe tbody tr th:only-of-type {\n        vertical-align: middle;\n    }\n\n    .dataframe tbody tr th {\n        vertical-align: top;\n    }\n\n    .dataframe thead th {\n        text-align: right;\n    }\n</style>\n<table border=\"1\" class=\"dataframe\">\n  <thead>\n    <tr style=\"text-align: right;\">\n      <th></th>\n      <th>InvoiceNo</th>\n      <th>StockCode</th>\n      <th>Description</th>\n      <th>Quantity</th>\n      <th>InvoiceDate</th>\n      <th>UnitPrice</th>\n      <th>CustomerID</th>\n      <th>Country</th>\n    </tr>\n  </thead>\n  <tbody>\n    <tr>\n      <td>0</td>\n      <td>554065</td>\n      <td>20961</td>\n      <td>STRAWBERRY BATH SPONGE</td>\n      <td>30</td>\n      <td>22/05/2011 10:39</td>\n      <td>1.25</td>\n      <td>18287</td>\n      <td>United Kingdom</td>\n    </tr>\n    <tr>\n      <td>1</td>\n      <td>554065</td>\n      <td>20963</td>\n      <td>APPLE BATH SPONGE</td>\n      <td>30</td>\n      <td>22/05/2011 10:39</td>\n      <td>1.25</td>\n      <td>18287</td>\n      <td>United Kingdom</td>\n    </tr>\n    <tr>\n      <td>2</td>\n      <td>570715</td>\n      <td>21014</td>\n      <td>SWISS CHALET TREE DECORATION</td>\n      <td>24</td>\n      <td>12/10/2011 10:23</td>\n      <td>0.29</td>\n      <td>18287</td>\n      <td>United Kingdom</td>\n    </tr>\n    <tr>\n      <td>3</td>\n      <td>573167</td>\n      <td>21014</td>\n      <td>SWISS CHALET TREE DECORATION</td>\n      <td>24</td>\n      <td>28/10/2011 09:29</td>\n      <td>0.29</td>\n      <td>18287</td>\n      <td>United Kingdom</td>\n    </tr>\n    <tr>\n      <td>4</td>\n      <td>554065</td>\n      <td>21232</td>\n      <td>STRAWBERRY CERAMIC TRINKET BOX</td>\n      <td>12</td>\n      <td>22/05/2011 10:39</td>\n      <td>1.25</td>\n      <td>18287</td>\n      <td>United Kingdom</td>\n    </tr>\n    <tr>\n      <td>...</td>\n      <td>...</td>\n      <td>...</td>\n      <td>...</td>\n      <td>...</td>\n      <td>...</td>\n      <td>...</td>\n      <td>...</td>\n      <td>...</td>\n    </tr>\n    <tr>\n      <td>396234</td>\n      <td>562032</td>\n      <td>22371</td>\n      <td>AIRLINE BAG VINTAGE TOKYO 78</td>\n      <td>8</td>\n      <td>02/08/2011 08:48</td>\n      <td>4.25</td>\n      <td>12347</td>\n      <td>Iceland</td>\n    </tr>\n    <tr>\n      <td>396244</td>\n      <td>556201</td>\n      <td>22375</td>\n      <td>AIRLINE BAG VINTAGE JET SET BROWN</td>\n      <td>4</td>\n      <td>09/06/2011 13:01</td>\n      <td>4.25</td>\n      <td>12347</td>\n      <td>Iceland</td>\n    </tr>\n    <tr>\n      <td>396274</td>\n      <td>556201</td>\n      <td>22725</td>\n      <td>ALARM CLOCK BAKELIKE CHOCOLATE</td>\n      <td>4</td>\n      <td>09/06/2011 13:01</td>\n      <td>3.75</td>\n      <td>12347</td>\n      <td>Iceland</td>\n    </tr>\n    <tr>\n      <td>396302</td>\n      <td>581180</td>\n      <td>23084</td>\n      <td>RABBIT NIGHT LIGHT</td>\n      <td>24</td>\n      <td>07/12/2011 15:52</td>\n      <td>1.79</td>\n      <td>12347</td>\n      <td>Iceland</td>\n    </tr>\n    <tr>\n      <td>396369</td>\n      <td>541431</td>\n      <td>23166</td>\n      <td>MEDIUM CERAMIC TOP STORAGE JAR</td>\n      <td>74215</td>\n      <td>18/01/2011 10:01</td>\n      <td>1.04</td>\n      <td>12346</td>\n      <td>United Kingdom</td>\n    </tr>\n  </tbody>\n</table>\n<p>82716 rows × 8 columns</p>\n</div>",
      "text/plain": "        InvoiceNo StockCode                        Description  Quantity  \\\n0          554065     20961            STRAWBERRY BATH SPONGE         30   \n1          554065     20963                  APPLE BATH SPONGE        30   \n2          570715     21014      SWISS CHALET TREE DECORATION         24   \n3          573167     21014      SWISS CHALET TREE DECORATION         24   \n4          554065     21232     STRAWBERRY CERAMIC TRINKET BOX        12   \n...           ...       ...                                ...       ...   \n396234     562032     22371       AIRLINE BAG VINTAGE TOKYO 78         8   \n396244     556201     22375  AIRLINE BAG VINTAGE JET SET BROWN         4   \n396274     556201     22725     ALARM CLOCK BAKELIKE CHOCOLATE         4   \n396302     581180     23084                 RABBIT NIGHT LIGHT        24   \n396369     541431     23166     MEDIUM CERAMIC TOP STORAGE JAR     74215   \n\n             InvoiceDate  UnitPrice  CustomerID         Country  \n0       22/05/2011 10:39       1.25       18287  United Kingdom  \n1       22/05/2011 10:39       1.25       18287  United Kingdom  \n2       12/10/2011 10:23       0.29       18287  United Kingdom  \n3       28/10/2011 09:29       0.29       18287  United Kingdom  \n4       22/05/2011 10:39       1.25       18287  United Kingdom  \n...                  ...        ...         ...             ...  \n396234  02/08/2011 08:48       4.25       12347         Iceland  \n396244  09/06/2011 13:01       4.25       12347         Iceland  \n396274  09/06/2011 13:01       3.75       12347         Iceland  \n396302  07/12/2011 15:52       1.79       12347         Iceland  \n396369  18/01/2011 10:01       1.04       12346  United Kingdom  \n\n[82716 rows x 8 columns]"
     },
     "execution_count": 4,
     "metadata": {},
     "output_type": "execute_result"
    }
   ],
   "source": [
    "data.groupby('InvoiceNo').head()"
   ]
  },
  {
   "cell_type": "code",
   "execution_count": 3,
   "metadata": {},
   "outputs": [],
   "source": [
    "transaction_series = data.groupby(['InvoiceNo'])['StockCode'].apply(list)\n",
    "transaction_df = pd.DataFrame(transaction_series).rename(columns={'StockCode':'Items'})\n",
    "#transaction_df"
   ]
  },
  {
   "cell_type": "code",
   "execution_count": 4,
   "metadata": {},
   "outputs": [],
   "source": [
    "te = TransactionEncoder()\n",
    "te_ary = te.fit(data).transform(data)\n",
    "df = pd.DataFrame(te_ary, columns=te.columns_)\n",
    "\n",
    "# print(df)"
   ]
  },
  {
   "cell_type": "code",
   "execution_count": 5,
   "metadata": {},
   "outputs": [],
   "source": [
    "frequent_itemsets = apriori(df, min_support=0.000003, use_colnames=True)"
   ]
  },
  {
   "cell_type": "code",
   "execution_count": 7,
   "metadata": {},
   "outputs": [],
   "source": [
    "frequent_itemsets = apriori(df, min_support=0.000008, use_colnames=True)"
   ]
  },
  {
   "cell_type": "code",
   "execution_count": 12,
   "metadata": {},
   "outputs": [
    {
     "data": {
      "text/html": "<div>\n<style scoped>\n    .dataframe tbody tr th:only-of-type {\n        vertical-align: middle;\n    }\n\n    .dataframe tbody tr th {\n        vertical-align: top;\n    }\n\n    .dataframe thead th {\n        text-align: right;\n    }\n</style>\n<table border=\"1\" class=\"dataframe\">\n  <thead>\n    <tr style=\"text-align: right;\">\n      <th></th>\n      <th>antecedents</th>\n      <th>consequents</th>\n      <th>antecedent support</th>\n      <th>consequent support</th>\n      <th>support</th>\n      <th>confidence</th>\n      <th>lift</th>\n      <th>leverage</th>\n      <th>conviction</th>\n    </tr>\n  </thead>\n  <tbody>\n    <tr>\n      <td>0</td>\n      <td>(c)</td>\n      <td>(e)</td>\n      <td>0.000013</td>\n      <td>0.000015</td>\n      <td>0.000013</td>\n      <td>1.000000</td>\n      <td>66061.666667</td>\n      <td>0.000013</td>\n      <td>inf</td>\n    </tr>\n    <tr>\n      <td>1</td>\n      <td>(e)</td>\n      <td>(c)</td>\n      <td>0.000015</td>\n      <td>0.000013</td>\n      <td>0.000013</td>\n      <td>0.833333</td>\n      <td>66061.666667</td>\n      <td>0.000013</td>\n      <td>5.999924</td>\n    </tr>\n    <tr>\n      <td>2</td>\n      <td>(i)</td>\n      <td>(c)</td>\n      <td>0.000013</td>\n      <td>0.000013</td>\n      <td>0.000010</td>\n      <td>0.800000</td>\n      <td>63419.200000</td>\n      <td>0.000010</td>\n      <td>4.999937</td>\n    </tr>\n    <tr>\n      <td>3</td>\n      <td>(c)</td>\n      <td>(i)</td>\n      <td>0.000013</td>\n      <td>0.000013</td>\n      <td>0.000010</td>\n      <td>0.800000</td>\n      <td>63419.200000</td>\n      <td>0.000010</td>\n      <td>4.999937</td>\n    </tr>\n    <tr>\n      <td>4</td>\n      <td>(n)</td>\n      <td>(c)</td>\n      <td>0.000015</td>\n      <td>0.000013</td>\n      <td>0.000010</td>\n      <td>0.666667</td>\n      <td>52849.333333</td>\n      <td>0.000010</td>\n      <td>2.999962</td>\n    </tr>\n    <tr>\n      <td>...</td>\n      <td>...</td>\n      <td>...</td>\n      <td>...</td>\n      <td>...</td>\n      <td>...</td>\n      <td>...</td>\n      <td>...</td>\n      <td>...</td>\n      <td>...</td>\n    </tr>\n    <tr>\n      <td>87</td>\n      <td>(c, e)</td>\n      <td>(n, i)</td>\n      <td>0.000013</td>\n      <td>0.000013</td>\n      <td>0.000010</td>\n      <td>0.800000</td>\n      <td>63419.200000</td>\n      <td>0.000010</td>\n      <td>4.999937</td>\n    </tr>\n    <tr>\n      <td>88</td>\n      <td>(n)</td>\n      <td>(i, c, e)</td>\n      <td>0.000015</td>\n      <td>0.000010</td>\n      <td>0.000010</td>\n      <td>0.666667</td>\n      <td>66061.666667</td>\n      <td>0.000010</td>\n      <td>2.999970</td>\n    </tr>\n    <tr>\n      <td>89</td>\n      <td>(i)</td>\n      <td>(n, c, e)</td>\n      <td>0.000013</td>\n      <td>0.000010</td>\n      <td>0.000010</td>\n      <td>0.800000</td>\n      <td>79274.000000</td>\n      <td>0.000010</td>\n      <td>4.999950</td>\n    </tr>\n    <tr>\n      <td>90</td>\n      <td>(c)</td>\n      <td>(n, i, e)</td>\n      <td>0.000013</td>\n      <td>0.000010</td>\n      <td>0.000010</td>\n      <td>0.800000</td>\n      <td>79274.000000</td>\n      <td>0.000010</td>\n      <td>4.999950</td>\n    </tr>\n    <tr>\n      <td>91</td>\n      <td>(e)</td>\n      <td>(n, i, c)</td>\n      <td>0.000015</td>\n      <td>0.000010</td>\n      <td>0.000010</td>\n      <td>0.666667</td>\n      <td>66061.666667</td>\n      <td>0.000010</td>\n      <td>2.999970</td>\n    </tr>\n  </tbody>\n</table>\n<p>92 rows × 9 columns</p>\n</div>",
      "text/plain": "   antecedents consequents  antecedent support  consequent support   support  \\\n0          (c)         (e)            0.000013            0.000015  0.000013   \n1          (e)         (c)            0.000015            0.000013  0.000013   \n2          (i)         (c)            0.000013            0.000013  0.000010   \n3          (c)         (i)            0.000013            0.000013  0.000010   \n4          (n)         (c)            0.000015            0.000013  0.000010   \n..         ...         ...                 ...                 ...       ...   \n87      (c, e)      (n, i)            0.000013            0.000013  0.000010   \n88         (n)   (i, c, e)            0.000015            0.000010  0.000010   \n89         (i)   (n, c, e)            0.000013            0.000010  0.000010   \n90         (c)   (n, i, e)            0.000013            0.000010  0.000010   \n91         (e)   (n, i, c)            0.000015            0.000010  0.000010   \n\n    confidence          lift  leverage  conviction  \n0     1.000000  66061.666667  0.000013         inf  \n1     0.833333  66061.666667  0.000013    5.999924  \n2     0.800000  63419.200000  0.000010    4.999937  \n3     0.800000  63419.200000  0.000010    4.999937  \n4     0.666667  52849.333333  0.000010    2.999962  \n..         ...           ...       ...         ...  \n87    0.800000  63419.200000  0.000010    4.999937  \n88    0.666667  66061.666667  0.000010    2.999970  \n89    0.800000  79274.000000  0.000010    4.999950  \n90    0.800000  79274.000000  0.000010    4.999950  \n91    0.666667  66061.666667  0.000010    2.999970  \n\n[92 rows x 9 columns]"
     },
     "execution_count": 12,
     "metadata": {},
     "output_type": "execute_result"
    }
   ],
   "source": [
    "# http://rasbt.github.io/mlxtend/user_guide/frequent_patterns/association_rules/\n",
    "\n",
    "rules = association_rules(frequent_itemsets, metric=\"lift\", min_threshold=1.7)\n",
    "\n",
    "rules"
   ]
  },
  {
   "cell_type": "code",
   "execution_count": null,
   "metadata": {},
   "outputs": [],
   "source": []
  }
 ],
 "metadata": {
  "kernelspec": {
   "display_name": "Python 3",
   "language": "python",
   "name": "python3"
  },
  "language_info": {
   "codemirror_mode": {
    "name": "ipython",
    "version": 3
   },
   "file_extension": ".py",
   "mimetype": "text/x-python",
   "name": "python",
   "nbconvert_exporter": "python",
   "pygments_lexer": "ipython3",
   "version": "3.7.4-final"
  }
 },
 "nbformat": 4,
 "nbformat_minor": 4
}